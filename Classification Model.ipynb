{
  "cells": [
    {
      "cell_type": "code",
      "execution_count": null,
      "metadata": {
        "id": "kKaPZhOQaL-s"
      },
      "outputs": [],
      "source": [
        "#imports\n",
        "import pandas as pd\n",
        "import numpy as np\n",
        "import seaborn as sns\n",
        "import matplotlib.pyplot as plt\n",
        "import plotly.express as px\n",
        "import math\n",
        "import warnings\n",
        "warnings.filterwarnings('ignore')"
      ]
    },
    {
      "cell_type": "code",
      "execution_count": null,
      "metadata": {
        "colab": {
          "base_uri": "https://localhost:8080/",
          "height": 223
        },
        "id": "PWz6q_DsbFev",
        "outputId": "0122f735-bb1c-413c-a97a-ed73c580be51"
      },
      "outputs": [
        {
          "name": "stdout",
          "output_type": "stream",
          "text": [
            "Drive already mounted at /content/drive; to attempt to forcibly remount, call drive.mount(\"/content/drive\", force_remount=True).\n"
          ]
        },
        {
          "data": {
            "text/html": [
              "\n",
              "  <div id=\"df-beed2742-0660-4c3e-a434-b0d8b0ba6bbc\">\n",
              "    <div class=\"colab-df-container\">\n",
              "      <div>\n",
              "<style scoped>\n",
              "    .dataframe tbody tr th:only-of-type {\n",
              "        vertical-align: middle;\n",
              "    }\n",
              "\n",
              "    .dataframe tbody tr th {\n",
              "        vertical-align: top;\n",
              "    }\n",
              "\n",
              "    .dataframe thead th {\n",
              "        text-align: right;\n",
              "    }\n",
              "</style>\n",
              "<table border=\"1\" class=\"dataframe\">\n",
              "  <thead>\n",
              "    <tr style=\"text-align: right;\">\n",
              "      <th></th>\n",
              "      <th>Order ID</th>\n",
              "      <th>Customer Name</th>\n",
              "      <th>Category</th>\n",
              "      <th>Sub Category</th>\n",
              "      <th>City</th>\n",
              "      <th>Order Date</th>\n",
              "      <th>Region</th>\n",
              "      <th>Sales</th>\n",
              "      <th>Discount</th>\n",
              "      <th>Profit</th>\n",
              "      <th>State</th>\n",
              "    </tr>\n",
              "  </thead>\n",
              "  <tbody>\n",
              "    <tr>\n",
              "      <th>0</th>\n",
              "      <td>OD1</td>\n",
              "      <td>Harish</td>\n",
              "      <td>Oil &amp; Masala</td>\n",
              "      <td>Masalas</td>\n",
              "      <td>Vellore</td>\n",
              "      <td>11-08-2017</td>\n",
              "      <td>North</td>\n",
              "      <td>1254</td>\n",
              "      <td>0.12</td>\n",
              "      <td>401.28</td>\n",
              "      <td>Tamil Nadu</td>\n",
              "    </tr>\n",
              "    <tr>\n",
              "      <th>1</th>\n",
              "      <td>OD2</td>\n",
              "      <td>Sudha</td>\n",
              "      <td>Beverages</td>\n",
              "      <td>Health Drinks</td>\n",
              "      <td>Krishnagiri</td>\n",
              "      <td>11-08-2017</td>\n",
              "      <td>South</td>\n",
              "      <td>749</td>\n",
              "      <td>0.18</td>\n",
              "      <td>149.80</td>\n",
              "      <td>Tamil Nadu</td>\n",
              "    </tr>\n",
              "    <tr>\n",
              "      <th>2</th>\n",
              "      <td>OD3</td>\n",
              "      <td>Hussain</td>\n",
              "      <td>Food Grains</td>\n",
              "      <td>Atta &amp; Flour</td>\n",
              "      <td>Perambalur</td>\n",
              "      <td>06-12-2017</td>\n",
              "      <td>West</td>\n",
              "      <td>2360</td>\n",
              "      <td>0.21</td>\n",
              "      <td>165.20</td>\n",
              "      <td>Tamil Nadu</td>\n",
              "    </tr>\n",
              "    <tr>\n",
              "      <th>3</th>\n",
              "      <td>OD4</td>\n",
              "      <td>Jackson</td>\n",
              "      <td>Fruits &amp; Veggies</td>\n",
              "      <td>Fresh Vegetables</td>\n",
              "      <td>Dharmapuri</td>\n",
              "      <td>10-11-2016</td>\n",
              "      <td>South</td>\n",
              "      <td>896</td>\n",
              "      <td>0.25</td>\n",
              "      <td>89.60</td>\n",
              "      <td>Tamil Nadu</td>\n",
              "    </tr>\n",
              "    <tr>\n",
              "      <th>4</th>\n",
              "      <td>OD5</td>\n",
              "      <td>Ridhesh</td>\n",
              "      <td>Food Grains</td>\n",
              "      <td>Organic Staples</td>\n",
              "      <td>Ooty</td>\n",
              "      <td>10-11-2016</td>\n",
              "      <td>South</td>\n",
              "      <td>2355</td>\n",
              "      <td>0.26</td>\n",
              "      <td>918.45</td>\n",
              "      <td>Tamil Nadu</td>\n",
              "    </tr>\n",
              "  </tbody>\n",
              "</table>\n",
              "</div>\n",
              "      <button class=\"colab-df-convert\" onclick=\"convertToInteractive('df-beed2742-0660-4c3e-a434-b0d8b0ba6bbc')\"\n",
              "              title=\"Convert this dataframe to an interactive table.\"\n",
              "              style=\"display:none;\">\n",
              "        \n",
              "  <svg xmlns=\"http://www.w3.org/2000/svg\" height=\"24px\"viewBox=\"0 0 24 24\"\n",
              "       width=\"24px\">\n",
              "    <path d=\"M0 0h24v24H0V0z\" fill=\"none\"/>\n",
              "    <path d=\"M18.56 5.44l.94 2.06.94-2.06 2.06-.94-2.06-.94-.94-2.06-.94 2.06-2.06.94zm-11 1L8.5 8.5l.94-2.06 2.06-.94-2.06-.94L8.5 2.5l-.94 2.06-2.06.94zm10 10l.94 2.06.94-2.06 2.06-.94-2.06-.94-.94-2.06-.94 2.06-2.06.94z\"/><path d=\"M17.41 7.96l-1.37-1.37c-.4-.4-.92-.59-1.43-.59-.52 0-1.04.2-1.43.59L10.3 9.45l-7.72 7.72c-.78.78-.78 2.05 0 2.83L4 21.41c.39.39.9.59 1.41.59.51 0 1.02-.2 1.41-.59l7.78-7.78 2.81-2.81c.8-.78.8-2.07 0-2.86zM5.41 20L4 18.59l7.72-7.72 1.47 1.35L5.41 20z\"/>\n",
              "  </svg>\n",
              "      </button>\n",
              "      \n",
              "  <style>\n",
              "    .colab-df-container {\n",
              "      display:flex;\n",
              "      flex-wrap:wrap;\n",
              "      gap: 12px;\n",
              "    }\n",
              "\n",
              "    .colab-df-convert {\n",
              "      background-color: #E8F0FE;\n",
              "      border: none;\n",
              "      border-radius: 50%;\n",
              "      cursor: pointer;\n",
              "      display: none;\n",
              "      fill: #1967D2;\n",
              "      height: 32px;\n",
              "      padding: 0 0 0 0;\n",
              "      width: 32px;\n",
              "    }\n",
              "\n",
              "    .colab-df-convert:hover {\n",
              "      background-color: #E2EBFA;\n",
              "      box-shadow: 0px 1px 2px rgba(60, 64, 67, 0.3), 0px 1px 3px 1px rgba(60, 64, 67, 0.15);\n",
              "      fill: #174EA6;\n",
              "    }\n",
              "\n",
              "    [theme=dark] .colab-df-convert {\n",
              "      background-color: #3B4455;\n",
              "      fill: #D2E3FC;\n",
              "    }\n",
              "\n",
              "    [theme=dark] .colab-df-convert:hover {\n",
              "      background-color: #434B5C;\n",
              "      box-shadow: 0px 1px 3px 1px rgba(0, 0, 0, 0.15);\n",
              "      filter: drop-shadow(0px 1px 2px rgba(0, 0, 0, 0.3));\n",
              "      fill: #FFFFFF;\n",
              "    }\n",
              "  </style>\n",
              "\n",
              "      <script>\n",
              "        const buttonEl =\n",
              "          document.querySelector('#df-beed2742-0660-4c3e-a434-b0d8b0ba6bbc button.colab-df-convert');\n",
              "        buttonEl.style.display =\n",
              "          google.colab.kernel.accessAllowed ? 'block' : 'none';\n",
              "\n",
              "        async function convertToInteractive(key) {\n",
              "          const element = document.querySelector('#df-beed2742-0660-4c3e-a434-b0d8b0ba6bbc');\n",
              "          const dataTable =\n",
              "            await google.colab.kernel.invokeFunction('convertToInteractive',\n",
              "                                                     [key], {});\n",
              "          if (!dataTable) return;\n",
              "\n",
              "          const docLinkHtml = 'Like what you see? Visit the ' +\n",
              "            '<a target=\"_blank\" href=https://colab.research.google.com/notebooks/data_table.ipynb>data table notebook</a>'\n",
              "            + ' to learn more about interactive tables.';\n",
              "          element.innerHTML = '';\n",
              "          dataTable['output_type'] = 'display_data';\n",
              "          await google.colab.output.renderOutput(dataTable, element);\n",
              "          const docLink = document.createElement('div');\n",
              "          docLink.innerHTML = docLinkHtml;\n",
              "          element.appendChild(docLink);\n",
              "        }\n",
              "      </script>\n",
              "    </div>\n",
              "  </div>\n",
              "  "
            ],
            "text/plain": [
              "  Order ID Customer Name          Category      Sub Category         City  \\\n",
              "0      OD1        Harish      Oil & Masala           Masalas      Vellore   \n",
              "1      OD2         Sudha         Beverages     Health Drinks  Krishnagiri   \n",
              "2      OD3       Hussain       Food Grains      Atta & Flour   Perambalur   \n",
              "3      OD4       Jackson  Fruits & Veggies  Fresh Vegetables   Dharmapuri   \n",
              "4      OD5       Ridhesh       Food Grains   Organic Staples         Ooty   \n",
              "\n",
              "   Order Date Region  Sales  Discount  Profit       State  \n",
              "0  11-08-2017  North   1254      0.12  401.28  Tamil Nadu  \n",
              "1  11-08-2017  South    749      0.18  149.80  Tamil Nadu  \n",
              "2  06-12-2017   West   2360      0.21  165.20  Tamil Nadu  \n",
              "3  10-11-2016  South    896      0.25   89.60  Tamil Nadu  \n",
              "4  10-11-2016  South   2355      0.26  918.45  Tamil Nadu  "
            ]
          },
          "execution_count": 87,
          "metadata": {},
          "output_type": "execute_result"
        }
      ],
      "source": [
        "#uploading the data\n",
        "from google.colab import drive\n",
        "drive.mount('/content/drive')\n",
        "data=pd.read_csv('/content/drive/MyDrive/Supermart Grocery Sales - Retail Analytics Dataset.csv')\n",
        "data.head()"
      ]
    },
    {
      "cell_type": "code",
      "execution_count": null,
      "metadata": {
        "id": "4K-Vxbyrb5Vt"
      },
      "outputs": [],
      "source": [
        "#dropping the duplicates\n",
        "data=data.drop_duplicates()"
      ]
    },
    {
      "cell_type": "code",
      "execution_count": null,
      "metadata": {
        "colab": {
          "base_uri": "https://localhost:8080/"
        },
        "id": "efUTsyhfb-6u",
        "outputId": "d2f62c16-3a2a-4846-efc6-df2d324812f4"
      },
      "outputs": [
        {
          "name": "stdout",
          "output_type": "stream",
          "text": [
            "<class 'pandas.core.frame.DataFrame'>\n",
            "Int64Index: 9994 entries, 0 to 9993\n",
            "Data columns (total 11 columns):\n",
            " #   Column         Non-Null Count  Dtype  \n",
            "---  ------         --------------  -----  \n",
            " 0   Order ID       9994 non-null   object \n",
            " 1   Customer Name  9994 non-null   object \n",
            " 2   Category       9994 non-null   object \n",
            " 3   Sub Category   9994 non-null   object \n",
            " 4   City           9994 non-null   object \n",
            " 5   Order Date     9994 non-null   object \n",
            " 6   Region         9994 non-null   object \n",
            " 7   Sales          9994 non-null   int64  \n",
            " 8   Discount       9994 non-null   float64\n",
            " 9   Profit         9994 non-null   float64\n",
            " 10  State          9994 non-null   object \n",
            "dtypes: float64(2), int64(1), object(8)\n",
            "memory usage: 936.9+ KB\n"
          ]
        }
      ],
      "source": [
        "data.info()"
      ]
    },
    {
      "cell_type": "code",
      "execution_count": null,
      "metadata": {
        "id": "nEMqxGOVcDFF"
      },
      "outputs": [],
      "source": [
        "data=data.drop('Discount',axis=1)"
      ]
    },
    {
      "cell_type": "code",
      "execution_count": null,
      "metadata": {
        "id": "3jn3Sy2IcLNu"
      },
      "outputs": [],
      "source": [
        "data=data.drop('Profit',axis=1)"
      ]
    },
    {
      "cell_type": "code",
      "execution_count": null,
      "metadata": {
        "id": "ij4rqBLIgl5H"
      },
      "outputs": [],
      "source": [
        "data=data.drop('Category',axis=1)"
      ]
    },
    {
      "cell_type": "code",
      "execution_count": null,
      "metadata": {
        "id": "Cp_ThBJXg5V4"
      },
      "outputs": [],
      "source": [
        "data=data.drop('Region',axis=1)"
      ]
    },
    {
      "cell_type": "code",
      "execution_count": null,
      "metadata": {
        "id": "048Yf3nghE24"
      },
      "outputs": [],
      "source": [
        "data=data.drop('State',axis=1)"
      ]
    },
    {
      "cell_type": "code",
      "execution_count": null,
      "metadata": {
        "id": "dG3e1UumcoIO"
      },
      "outputs": [],
      "source": [
        "#converting categorical data to numeric data\n",
        "data['Order ID']=pd.Categorical(data['Order ID']).codes \n",
        "data['Customer Name']=pd.Categorical(data['Customer Name']).codes \n",
        "data['Sub Category']=pd.Categorical(data['Sub Category']).codes \n",
        "data['City']=pd.Categorical(data['City']).codes \n",
        "data['Order Date']=pd.Categorical(data['Order Date']).codes  "
      ]
    },
    {
      "cell_type": "code",
      "execution_count": null,
      "metadata": {
        "colab": {
          "base_uri": "https://localhost:8080/"
        },
        "id": "phslyJezdf_2",
        "outputId": "02f0211c-3311-4641-dbd7-2d822ad3c699"
      },
      "outputs": [
        {
          "data": {
            "text/plain": [
              "Order ID         0\n",
              "Customer Name    0\n",
              "Sub Category     0\n",
              "City             0\n",
              "Order Date       0\n",
              "Sales            0\n",
              "dtype: int64"
            ]
          },
          "execution_count": 96,
          "metadata": {},
          "output_type": "execute_result"
        }
      ],
      "source": [
        "#checking for any null values\n",
        "data.isnull().sum()"
      ]
    },
    {
      "cell_type": "code",
      "execution_count": null,
      "metadata": {
        "id": "ljPer9q9dn6P"
      },
      "outputs": [],
      "source": [
        "print('No. of 0 values in Order ID :', data[data['Order ID']==0].shape[0])"
      ]
    },
    {
      "cell_type": "code",
      "execution_count": null,
      "metadata": {
        "id": "DRoWwBfne9K3"
      },
      "outputs": [],
      "source": [
        "mask = data['Order ID'] == 0\n",
        "data.loc[mask,'Order ID'] = pd.Series(range(1000,2000)).sample(mask.sum()).values"
      ]
    },
    {
      "cell_type": "code",
      "execution_count": null,
      "metadata": {
        "id": "nmepqeUXduKO"
      },
      "outputs": [],
      "source": [
        "print('No. of 0 values in Customer Name :', data[data['Customer Name']==0].shape[0])"
      ]
    },
    {
      "cell_type": "code",
      "execution_count": null,
      "metadata": {
        "id": "cOS46GxMfXeP"
      },
      "outputs": [],
      "source": [
        "mask = data['Customer Name'] == 0\n",
        "data.loc[mask,'Customer Name'] = pd.Series(range(1000,2000)).sample(mask.sum()).values"
      ]
    },
    {
      "cell_type": "code",
      "execution_count": null,
      "metadata": {
        "id": "v14gSdF6d0-o"
      },
      "outputs": [],
      "source": [
        "print('No. of 0 values in Sub Category :', data[data['Sub Category']==0].shape[0])"
      ]
    },
    {
      "cell_type": "code",
      "execution_count": null,
      "metadata": {
        "id": "R4He3JCLhLm_"
      },
      "outputs": [],
      "source": [
        "mask = data['Sub Category'] == 0\n",
        "data.loc[mask,'Sub Category'] = pd.Series(range(1000,2000)).sample(mask.sum()).values"
      ]
    },
    {
      "cell_type": "code",
      "execution_count": null,
      "metadata": {
        "id": "FEdsIUCJd1rH"
      },
      "outputs": [],
      "source": [
        "print('No. of 0 values in City :', data[data['City']==0].shape[0])"
      ]
    },
    {
      "cell_type": "code",
      "execution_count": null,
      "metadata": {
        "id": "QlaQojkMhSyg"
      },
      "outputs": [],
      "source": [
        "mask = data['City'] == 0\n",
        "data.loc[mask,'City'] = pd.Series(range(1000,2000)).sample(mask.sum()).values"
      ]
    },
    {
      "cell_type": "code",
      "execution_count": null,
      "metadata": {
        "id": "V3uqFnlad2R4"
      },
      "outputs": [],
      "source": [
        "print('No. of 0 values in Order Date :', data[data['Order Date']==0].shape[0])"
      ]
    },
    {
      "cell_type": "code",
      "execution_count": null,
      "metadata": {
        "id": "YqY9Eb2vhZSf"
      },
      "outputs": [],
      "source": [
        "mask = data['Order Date'] == 0\n",
        "data.loc[mask,'Order Date'] = pd.Series(range(1000,2000)).sample(mask.sum()).values"
      ]
    },
    {
      "cell_type": "code",
      "execution_count": null,
      "metadata": {
        "id": "LzXj-Vuvd3lu"
      },
      "outputs": [],
      "source": [
        "print('No. of 0 values in Sales :', data[data['Sales']==0].shape[0])"
      ]
    },
    {
      "cell_type": "code",
      "execution_count": null,
      "metadata": {
        "id": "7GrtNuLthfqG"
      },
      "outputs": [],
      "source": [
        "mask = data['Sales'] == 0\n",
        "data.loc[mask,'Sales'] = pd.Series(range(1000,2000)).sample(mask.sum()).values"
      ]
    },
    {
      "cell_type": "code",
      "execution_count": null,
      "metadata": {
        "colab": {
          "base_uri": "https://localhost:8080/",
          "height": 340
        },
        "id": "7HsFFQfRhtw_",
        "outputId": "189f9adb-58b0-47a5-87fc-32bd364cfeb7"
      },
      "outputs": [
        {
          "data": {
            "image/png": "[encoded data removed]",
            "text/plain": [
              "<Figure size 432x288 with 2 Axes>"
            ]
          },
          "metadata": {},
          "output_type": "display_data"
        }
      ],
      "source": [
        "#correlation\n",
        "sns.heatmap(data.corr(),annot=True,fmt='.2f')\n",
        "plt.show()"
      ]
    },
    {
      "cell_type": "code",
      "execution_count": null,
      "metadata": {
        "id": "TmXHcGgi1-kU"
      },
      "outputs": [],
      "source": [
        "data"
      ]
    },
    {
      "cell_type": "code",
      "execution_count": null,
      "metadata": {
        "id": "uRnpVLUq14XT"
      },
      "outputs": [],
      "source": [
        "data.info()"
      ]
    },
    {
      "cell_type": "code",
      "execution_count": null,
      "metadata": {
        "id": "bHVQq4Mj1E2b"
      },
      "outputs": [],
      "source": [
        "#checking for outliers\n",
        "def detect_outlier(data):\n",
        "    q1, q3 = np.percentile(sorted(data), [25, 75])\n",
        "    lower_bound = q1 - (1.5 * (q3-q1))\n",
        "    upper_bound = q3 + (1.5 * (q3-q1))\n",
        "\n",
        "    outliers = [x for x in data if x <= lower_bound or x >= upper_bound]\n",
        " \n",
        "    return outliers\n",
        "\n",
        "print(detect_outlier((data['Order ID'])))\n",
        "print(detect_outlier((data['Customer Name'])))\n",
        "\n",
        "print(detect_outlier((data['Sub Category'])))\n",
        "\n",
        "print(detect_outlier((data['City'])))\n",
        "print(detect_outlier((data['Order Date'])))\n",
        "print(detect_outlier((data['Sales'])))"
      ]
    },
    {
      "cell_type": "code",
      "execution_count": null,
      "metadata": {
        "id": "N33LupKv2m6T"
      },
      "outputs": [],
      "source": [
        "pno = 1\n",
        "plt.figure(figsize=(15,10))\n",
        "for i in [\"Order ID\",\"Customer Name\",\"Sub Category\",\"City\",\"Order Date\",\"Sales\"]:\n",
        "        if pno<=6:\n",
        "            plt.subplot(3,3,pno);\n",
        "            pno+=1\n",
        "            sns.boxplot(data[i]);\n",
        "            plt.xlabel(i);"
      ]
    },
    {
      "cell_type": "code",
      "execution_count": null,
      "metadata": {
        "id": "gIwmKeT13Bf8"
      },
      "outputs": [],
      "source": [
        "#correcting the outliers\n",
        "def treat_outliers():\n",
        "    l = [\"Order ID\",\"Customer Name\",\"Sub Category\",\"City\",\"Order Date\",\"Sales\"]\n",
        "    for i in l:\n",
        "        x = np.quantile(data[i],[0,0.25,0.50,0.75])\n",
        "        iqr = x[3]-x[1]\n",
        "        upper_whisker = x[3]+1.5*iqr\n",
        "        lower_whisker = x[1]-1.5*iqr\n",
        "        data[i] = np.where(data[i]>upper_whisker,upper_whisker,(np.where(data[i]<lower_whisker,lower_whisker,data[i])))\n",
        "treat_outliers()"
      ]
    },
    {
      "cell_type": "code",
      "execution_count": null,
      "metadata": {
        "id": "bvJ7lewp3IA6"
      },
      "outputs": [],
      "source": [
        "pno = 1\n",
        "plt.figure(figsize=(15,10))\n",
        "for i in [\"Order ID\",\"Customer Name\",\"Sub Category\",\"City\",\"Order Date\",\"Sales\"]:\n",
        "        if pno<=5:\n",
        "            plt.subplot(3,2,pno);\n",
        "            pno+=1\n",
        "            sns.boxplot(data[i]);\n",
        "            plt.xlabel(i); "
      ]
    },
    {
      "cell_type": "code",
      "execution_count": null,
      "metadata": {
        "id": "FNHayltt3P0z"
      },
      "outputs": [],
      "source": [
        "#after treating outliers\n",
        "from statsmodels.stats.outliers_influence import variance_inflation_factor\n",
        "def cal_vif(X):\n",
        "    vif=pd.DataFrame()\n",
        "    vif['variables']=X.columns\n",
        "    vif['VIF']=[variance_inflation_factor(X.values, i) for i in range(X.shape[1])]\n",
        "\n",
        "    return(vif)\n",
        "\n",
        "X = data.drop(columns = [\"Sales\"])\n",
        "res=cal_vif(X)\n",
        "print(res)"
      ]
    },
    {
      "cell_type": "code",
      "execution_count": null,
      "metadata": {
        "id": "Ic35qNF0h0l_"
      },
      "outputs": [],
      "source": [
        "#splitting the data \n",
        "x = data.drop(columns = [\"Sales\"])\n",
        "y = data[\"Sales\"]"
      ]
    },
    {
      "cell_type": "code",
      "execution_count": null,
      "metadata": {
        "id": "mw_LaE_0jUJC"
      },
      "outputs": [],
      "source": [
        "#train test split\n",
        "from sklearn.model_selection import train_test_split\n",
        "\n",
        "x_train, x_test, y_train, y_test = train_test_split(x, y, test_size= 0.2, random_state=7)"
      ]
    },
    {
      "cell_type": "code",
      "execution_count": null,
      "metadata": {
        "colab": {
          "base_uri": "https://localhost:8080/"
        },
        "id": "MsrNFtW3jt8u",
        "outputId": "944b15a4-7eb8-460f-f942-e3d26c155d39"
      },
      "outputs": [
        {
          "data": {
            "text/plain": [
              "DecisionTreeClassifier(criterion='entropy')"
            ]
          },
          "execution_count": 106,
          "metadata": {},
          "output_type": "execute_result"
        }
      ],
      "source": [
        "#decision tree\n",
        "from sklearn.tree import DecisionTreeClassifier\n",
        "dc = DecisionTreeClassifier(criterion='entropy')\n",
        "dc.fit(x_train,y_train)"
      ]
    },
    {
      "cell_type": "code",
      "execution_count": null,
      "metadata": {
        "colab": {
          "base_uri": "https://localhost:8080/"
        },
        "id": "_nCG_CBBjyIo",
        "outputId": "1240a1de-b760-44a9-d90d-1e3b9bad6708"
      },
      "outputs": [
        {
          "data": {
            "text/plain": [
              "SVC()"
            ]
          },
          "execution_count": 110,
          "metadata": {},
          "output_type": "execute_result"
        }
      ],
      "source": [
        "#SVM\n",
        "from sklearn.svm import SVC\n",
        "sv=SVC()\n",
        "sv.fit(x_train,y_train)"
      ]
    },
    {
      "cell_type": "code",
      "execution_count": null,
      "metadata": {
        "colab": {
          "base_uri": "https://localhost:8080/"
        },
        "id": "bhPGwSTIj7Pn",
        "outputId": "21ae1b84-5fa4-4619-c773-73d12e6891ec"
      },
      "outputs": [
        {
          "data": {
            "text/plain": [
              "GaussianNB()"
            ]
          },
          "execution_count": 111,
          "metadata": {},
          "output_type": "execute_result"
        }
      ],
      "source": [
        "#naive-bayes\n",
        "from sklearn.naive_bayes import GaussianNB\n",
        "nb = GaussianNB()\n",
        "nb.fit(x_train,y_train)"
      ]
    },
    {
      "cell_type": "code",
      "execution_count": null,
      "metadata": {
        "colab": {
          "base_uri": "https://localhost:8080/"
        },
        "id": "plm8cxYFkzUR",
        "outputId": "e4c8e327-cee6-4d1a-e6fb-3134a327c470"
      },
      "outputs": [
        {
          "data": {
            "text/plain": [
              "KNeighborsClassifier()"
            ]
          },
          "execution_count": 112,
          "metadata": {},
          "output_type": "execute_result"
        }
      ],
      "source": [
        "#KNeighborsClassifier (KNN)\n",
        "from sklearn.neighbors import KNeighborsClassifier\n",
        "knn = KNeighborsClassifier()\n",
        "knn.fit(x_train,y_train)"
      ]
    },
    {
      "cell_type": "code",
      "execution_count": null,
      "metadata": {
        "id": "Isn-q3_v-6ik"
      },
      "outputs": [],
      "source": [
        "#making the predictions by various algorithms"
      ]
    },
    {
      "cell_type": "code",
      "execution_count": null,
      "metadata": {
        "id": "oDFQjO59ldUA"
      },
      "outputs": [],
      "source": [
        "x_test.shape"
      ]
    },
    {
      "cell_type": "code",
      "execution_count": null,
      "metadata": {
        "id": "CEl4MyTXmiaJ"
      },
      "outputs": [],
      "source": [
        "dc_pred=dc.predict(x_test)"
      ]
    },
    {
      "cell_type": "code",
      "execution_count": null,
      "metadata": {
        "colab": {
          "base_uri": "https://localhost:8080/"
        },
        "id": "POzVkvAQmo8p",
        "outputId": "18b56954-e42c-4b7f-c918-6e1106fecd9f"
      },
      "outputs": [
        {
          "data": {
            "text/plain": [
              "(1999,)"
            ]
          },
          "execution_count": 108,
          "metadata": {},
          "output_type": "execute_result"
        }
      ],
      "source": [
        "dc_pred.shape"
      ]
    },
    {
      "cell_type": "code",
      "execution_count": null,
      "metadata": {
        "id": "OEbuYuMglfbP"
      },
      "outputs": [],
      "source": [
        "sv_pred=sv.predict(x_test)"
      ]
    },
    {
      "cell_type": "code",
      "execution_count": null,
      "metadata": {
        "id": "R24w_fXCmfGo"
      },
      "outputs": [],
      "source": [
        "sv_pred.shape"
      ]
    },
    {
      "cell_type": "code",
      "execution_count": null,
      "metadata": {
        "id": "CcDtqVV-mrK0"
      },
      "outputs": [],
      "source": [
        "nb_pred=nb.predict(x_test)"
      ]
    },
    {
      "cell_type": "code",
      "execution_count": null,
      "metadata": {
        "id": "D3w8b-Jvmve4"
      },
      "outputs": [],
      "source": [
        "nb_pred.shape"
      ]
    },
    {
      "cell_type": "code",
      "execution_count": null,
      "metadata": {
        "id": "g13gIM6im2jR"
      },
      "outputs": [],
      "source": [
        "knn_pred=dc.predict(x_test)"
      ]
    },
    {
      "cell_type": "code",
      "execution_count": null,
      "metadata": {
        "id": "3N7KI-P5m2m4"
      },
      "outputs": [],
      "source": [
        "knn_pred.shape"
      ]
    },
    {
      "cell_type": "code",
      "execution_count": null,
      "metadata": {
        "colab": {
          "base_uri": "https://localhost:8080/"
        },
        "id": "dCSsSEElnMA1",
        "outputId": "6ab7cade-61f1-4661-81c4-f88514bd63dc"
      },
      "outputs": [
        {
          "name": "stdout",
          "output_type": "stream",
          "text": [
            "Train accuracy of decision tree 100.0\n",
            "Accuracy test score of decision tree 0.05002501250625312\n",
            "Accuracy test score of decision tree 0.05002501250625312\n"
          ]
        }
      ],
      "source": [
        "from sklearn.metrics import accuracy_score\n",
        "print(\"Train accuracy of decision tree\", dc.score(x_train, y_train)*100)\n",
        "print(\"Accuracy test score of decision tree\", dc.score(x_test, y_test)*100)\n",
        "print(\"Accuracy test score of decision tree\", accuracy_score(y_test, dc_pred)*100)"
      ]
    },
    {
      "cell_type": "code",
      "execution_count": null,
      "metadata": {
        "colab": {
          "background_save": true
        },
        "id": "OpsERLefnY_f",
        "outputId": "0c5ff46e-0b00-4e90-c0f7-715a881f2cf7"
      },
      "outputs": [
        {
          "name": "stdout",
          "output_type": "stream",
          "text": [
            "Train accuracy of svm 0.23764853033145716\n",
            "Accuracy test score of svm 0.10005002501250625\n",
            "Accuracy test score of svm 0.10005002501250625\n"
          ]
        }
      ],
      "source": [
        "from sklearn.metrics import accuracy_score\n",
        "print(\"Train accuracy of svm\", sv.score(x_train, y_train)*100)\n",
        "print(\"Accuracy test score of svm\", sv.score(x_test, y_test)*100)\n",
        "print(\"Accuracy test score of svm\", accuracy_score(y_test, sv_pred)*100)"
      ]
    },
    {
      "cell_type": "code",
      "execution_count": null,
      "metadata": {
        "colab": {
          "background_save": true
        },
        "id": "rCVPBNGHngXo",
        "outputId": "671a23d4-7839-4b64-dc5b-2379e7b73248"
      },
      "outputs": [
        {
          "name": "stdout",
          "output_type": "stream",
          "text": [
            "Train accuracy of naive-bayes 6.679174484052533\n",
            "Accuracy test score of naive-bayes 0.0\n",
            "Accuracy test score of naive-bayes 0.0\n"
          ]
        }
      ],
      "source": [
        "from sklearn.metrics import accuracy_score\n",
        "print(\"Train accuracy of naive-bayes\", nb.score(x_train, y_train)*100)\n",
        "print(\"Accuracy test score of naive-bayes\", nb.score(x_test, y_test)*100)\n",
        "print(\"Accuracy test score of naive-bayes\", accuracy_score(y_test, nb_pred)*100)"
      ]
    },
    {
      "cell_type": "code",
      "execution_count": null,
      "metadata": {
        "colab": {
          "background_save": true
        },
        "id": "TKafQrlZnHyJ",
        "outputId": "0c19195a-bd46-41ad-b454-9e89f6ef704a"
      },
      "outputs": [
        {
          "name": "stdout",
          "output_type": "stream",
          "text": [
            "Train accuracy of knn 20.400250156347717\n",
            "Accuracy test score of knn 0.05002501250625312\n",
            "Accuracy test score of knn 0.10005002501250625\n"
          ]
        }
      ],
      "source": [
        "from sklearn.metrics import accuracy_score\n",
        "print(\"Train accuracy of knn\", knn.score(x_train, y_train)*100)\n",
        "print(\"Accuracy test score of knn\", knn.score(x_test, y_test)*100)\n",
        "print(\"Accuracy test score of knn\", accuracy_score(y_test, knn_pred)*100)"
      ]
    }
  ],
  "metadata": {
    "colab": {
      "provenance": []
    },
    "kernelspec": {
      "display_name": "Python 3",
      "name": "python3"
    },
    "language_info": {
      "name": "python"
    }
  },
  "nbformat": 4,
  "nbformat_minor": 0
}